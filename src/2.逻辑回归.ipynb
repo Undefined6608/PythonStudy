{
 "cells": [
  {
   "cell_type": "markdown",
   "metadata": {},
   "source": [
    "# 逻辑回归\n",
    "## 分类问题\n",
    "- 逻辑回归算法\n",
    "- KNN 近邻模型\n",
    "- 决策树\n",
    "- 神经网络\n",
    "- 基本框架: $\\begin{Bmatrix} y = f(x_1,x_2,···,x_n) \\\\ 判断为类别N，如果 y = n \\\\ \\end{Bmatrix}$"
   ]
  },
  {
   "cell_type": "markdown",
   "metadata": {},
   "source": [
    "## 逻辑回归\n",
    "- 逻辑回归方程: $Y = \\frac{1}{1+e^{-x}}$\n",
    "- 概念: 用于解决分类问题的一种模型。根据数据特征或属性，计算其归属某一类别的概率$P(x)$,根据概率数值判断其所属类别。\n",
    "- 主要应用场景：二分类问题\n",
    "- 运用到高维二分问题：$P(x) = \\frac{1}{1+e^{-x}} \\qquad P(x) = \\frac{1}{1+e^{-g(x)}} \\qquad g(x) = \\Theta_0 + \\Theta_1x_1 + \\Theta_2x_2 + ··· + \\Theta_nx_n$\n",
    "- 多为决策边界为边界划分线/面/更高维切分\n",
    "- 其实就是来计算$\\Theta_1、\\Theta_2、···、\\Theta_n$的值，用最小化损失函数：$minimize{\\begin{Bmatrix} \\frac{1}{2m} \\sum_{i=1}^{m}{(y'_i - y_i)^2} \\end{Bmatrix}}$\n",
    "- 如果不连续，标签和预测结果都为离散点，使用该损失函数无法寻找极小值点\n",
    "- 逻辑回归求解，最小化损失函数（j）\n",
    "  - $J_i = \\begin{Bmatrix} -log(P(x_i)),if y_i = 1 \\\\ \\\\ -log(1 - P(x_i)),if y_i = 0 \\\\ \\end{Bmatrix}$\n",
    "- 在程序中运行的最小损失函数:\n",
    "  - $J = \\frac{1}{m}\\sum_{i = 1}^{m}{J_i} = -\\frac{1}{m} \\begin{bmatrix} \\sum_{i = 1}^{m}{(y_i log(P(x_i)) + (1 - y_i) log(1 - P(x_i)))} \\end{bmatrix}$\n",
    "- 梯度下降法：\n",
    "  - $j = f(p) \\qquad p_{i+1} = p_i - \\alpha\\dfrac{\\partial}{\\partial p_i}f(p_i)$\n",
    "  - 重复计算，直至收敛\n",
    "  - $\\begin{Bmatrix} temp_{\\Theta_j} = \\Theta_j - \\alpha\\dfrac{\\partial}{\\partial \\Theta_j}J(\\theta) \\\\ \\\\ \\Theta_j = temp_{\\Theta_j} \\\\ \\end{Bmatrix}$\n",
    "  - 求出 J 的最小值"
   ]
  },
  {
   "cell_type": "code",
   "execution_count": null,
   "metadata": {},
   "outputs": [],
   "source": []
  }
 ],
 "metadata": {
  "language_info": {
   "name": "python"
  }
 },
 "nbformat": 4,
 "nbformat_minor": 2
}
