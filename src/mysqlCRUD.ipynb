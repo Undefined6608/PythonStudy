{
 "cells": [
  {
   "cell_type": "markdown",
   "metadata": {},
   "source": [
    "## 导入工具文件"
   ]
  },
  {
   "cell_type": "code",
   "execution_count": 3,
   "metadata": {},
   "outputs": [],
   "source": [
    "import utils.mysqlDb as db"
   ]
  },
  {
   "cell_type": "markdown",
   "metadata": {},
   "source": [
    "## 1.查询数据库"
   ]
  },
  {
   "cell_type": "code",
   "execution_count": 4,
   "metadata": {},
   "outputs": [
    {
     "data": {
      "text/plain": [
       "[{'id': 1,\n",
       "  'name': 'xiaoming',\n",
       "  'gender': 'man',\n",
       "  'age': 21,\n",
       "  'email': 'xiaoming@qq.com'},\n",
       " {'id': 2,\n",
       "  'name': 'xiaohong',\n",
       "  'gender': 'women',\n",
       "  'age': 22,\n",
       "  'email': 'xiaohong@qq.com'}]"
      ]
     },
     "execution_count": 4,
     "metadata": {},
     "output_type": "execute_result"
    }
   ],
   "source": [
    "query_sql = \"select * from user\"\n",
    "db.query_data(query_sql)"
   ]
  },
  {
   "cell_type": "markdown",
   "metadata": {},
   "source": [
    "## 2.新增一条数据"
   ]
  },
  {
   "cell_type": "code",
   "execution_count": 9,
   "metadata": {},
   "outputs": [],
   "source": [
    "insert_sql = \"\"\"\n",
    "    INSERT user (name, gender, age, email)\n",
    "    VALUES('mayi', 'man', 20, 'mayi@qq.com')\n",
    "\"\"\"\n",
    "db.insert_or_update_data(insert_sql)"
   ]
  },
  {
   "cell_type": "code",
   "execution_count": 10,
   "metadata": {},
   "outputs": [
    {
     "data": {
      "text/plain": [
       "[{'id': 1,\n",
       "  'name': 'xiaoming',\n",
       "  'gender': 'man',\n",
       "  'age': 21,\n",
       "  'email': 'xiaoming@qq.com'},\n",
       " {'id': 2,\n",
       "  'name': 'xiaohong',\n",
       "  'gender': 'women',\n",
       "  'age': 22,\n",
       "  'email': 'xiaohong@qq.com'},\n",
       " {'id': 3, 'name': 'mayi', 'gender': 'man', 'age': 20, 'email': 'mayi@qq.com'}]"
      ]
     },
     "execution_count": 10,
     "metadata": {},
     "output_type": "execute_result"
    }
   ],
   "source": [
    "db.query_data(query_sql)"
   ]
  },
  {
   "cell_type": "markdown",
   "metadata": {},
   "source": [
    "## 3.更新一条数据"
   ]
  },
  {
   "cell_type": "code",
   "execution_count": 12,
   "metadata": {},
   "outputs": [],
   "source": [
    "update_sql = \"UPDATE user SET name='damayi' WHERE id=3\"\n",
    "db.insert_or_update_data(update_sql)"
   ]
  },
  {
   "cell_type": "code",
   "execution_count": 13,
   "metadata": {},
   "outputs": [
    {
     "data": {
      "text/plain": [
       "[{'id': 1,\n",
       "  'name': 'xiaoming',\n",
       "  'gender': 'man',\n",
       "  'age': 21,\n",
       "  'email': 'xiaoming@qq.com'},\n",
       " {'id': 2,\n",
       "  'name': 'xiaohong',\n",
       "  'gender': 'women',\n",
       "  'age': 22,\n",
       "  'email': 'xiaohong@qq.com'},\n",
       " {'id': 3,\n",
       "  'name': 'damayi',\n",
       "  'gender': 'man',\n",
       "  'age': 20,\n",
       "  'email': 'mayi@qq.com'}]"
      ]
     },
     "execution_count": 13,
     "metadata": {},
     "output_type": "execute_result"
    }
   ],
   "source": [
    "db.query_data(query_sql)"
   ]
  }
 ],
 "metadata": {
  "kernelspec": {
   "display_name": "Python 3",
   "language": "python",
   "name": "python3"
  },
  "language_info": {
   "codemirror_mode": {
    "name": "ipython",
    "version": 3
   },
   "file_extension": ".py",
   "mimetype": "text/x-python",
   "name": "python",
   "nbconvert_exporter": "python",
   "pygments_lexer": "ipython3",
   "version": "3.10.3"
  }
 },
 "nbformat": 4,
 "nbformat_minor": 2
}
