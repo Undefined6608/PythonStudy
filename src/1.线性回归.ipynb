{
 "cells": [
  {
   "cell_type": "markdown",
   "metadata": {},
   "source": [
    "![4a23b586-8a0f-43a4-8473-a0157472e5df.png](./source/image/4a23b586-8a0f-43a4-8473-a0157472e5df.png)"
   ]
  },
  {
   "cell_type": "markdown",
   "metadata": {},
   "source": [
    "![9b102899-6741-467b-a2fc-f8200eadae96.png](./source/image/9b102899-6741-467b-a2fc-f8200eadae96.png)"
   ]
  },
  {
   "cell_type": "markdown",
   "metadata": {},
   "source": [
    "![67cfc77e-c498-4372-8de7-d147c628e082.png](./source/image/67cfc77e-c498-4372-8de7-d147c628e082.png)"
   ]
  },
  {
   "cell_type": "markdown",
   "metadata": {},
   "source": [
    "![1d786c85-f264-4877-9c5d-b36af1f03a1e.png](./source/image/1d786c85-f264-4877-9c5d-b36af1f03a1e.png)"
   ]
  },
  {
   "cell_type": "markdown",
   "metadata": {},
   "source": [
    "![bf4ea43b-94db-4a56-90c4-7300f395e3f4.png](./source/image/bf4ea43b-94db-4a56-90c4-7300f395e3f4.png)"
   ]
  },
  {
   "cell_type": "markdown",
   "metadata": {},
   "source": [
    "![b4a5eba3-57d4-4d45-bbba-2727ad901946.png](./source/image/b4a5eba3-57d4-4d45-bbba-2727ad901946.png)"
   ]
  },
  {
   "cell_type": "markdown",
   "metadata": {},
   "source": [
    "![8fe87181-1e52-448d-a96e-54529e8b3f6e.png](./source/image/8fe87181-1e52-448d-a96e-54529e8b3f6e.png)"
   ]
  },
  {
   "cell_type": "markdown",
   "metadata": {},
   "source": [
    "![882b508b-f485-4ed7-b160-688a950f2883.png](./source/image/882b508b-f485-4ed7-b160-688a950f2883.png)"
   ]
  },
  {
   "cell_type": "markdown",
   "metadata": {},
   "source": [
    "![9a0dfbe4-5f9f-4039-86b3-efd8bfd016d6.png](./source//image/9a0dfbe4-5f9f-4039-86b3-efd8bfd016d6.png)"
   ]
  },
  {
   "cell_type": "markdown",
   "metadata": {},
   "source": [
    "![acd4d928-434e-4d07-a7fa-4af41bf7488d.png](./source/image/acd4d928-434e-4d07-a7fa-4af41bf7488d.png)"
   ]
  },
  {
   "cell_type": "markdown",
   "metadata": {},
   "source": [
    "![b9f9a42f-c404-4e33-ac76-2d17c7055cc5.png](./source//image/b9f9a42f-c404-4e33-ac76-2d17c7055cc5.png)"
   ]
  },
  {
   "cell_type": "markdown",
   "metadata": {},
   "source": [
    "# 线性回归\n",
    "有监督算法"
   ]
  },
  {
   "cell_type": "code",
   "execution_count": null,
   "metadata": {},
   "outputs": [],
   "source": [
    "\"\"\"线性回归算法编写\"\"\"\n",
    "## 梯度下降\n",
    "import numpy as np\n",
    "from utils.features import prepare_for_training\n",
    "\n",
    "class LinearRegression:\n",
    "    def __init__(self,data,labels,polynomal_degree = 0, sinusoid_degree = 0,normalize_data=True):\n",
    "        (\n",
    "            data_processed,\n",
    "            fetures_mean,\n",
    "            fetures_deviation\n",
    "        ) = prepare_for_training(\n",
    "            data, \n",
    "            polynomial_degree=polynomal_degree, \n",
    "            sinusoid_degree=sinusoid_degree,\n",
    "            normalize_data=normalize_data\n",
    "        )\n",
    "        \n",
    "        self.data = data_processed\n",
    "        self.labels = labels\n",
    "        self.fetures_mean = fetures_mean\n",
    "        self.fetures_deviation = fetures_deviation\n",
    "        self.polynomal_degree = polynomal_degree\n",
    "        self.sinusoid_degree = sinusoid_degree\n",
    "        self.normalize_data = normalize_data\n",
    "        \n",
    "        num_features = self.data.shape[1]\n",
    "        self.theta = np.zeros((num_features, 1))\n",
    "        \n",
    "        "
   ]
  }
 ],
 "metadata": {
  "language_info": {
   "name": "python"
  }
 },
 "nbformat": 4,
 "nbformat_minor": 2
}
